{
 "cells": [
  {
   "cell_type": "markdown",
   "metadata": {},
   "source": [
    "# The Battle of Neighborhoods"
   ]
  },
  {
   "cell_type": "markdown",
   "metadata": {},
   "source": [
    "### 1. Introduction/Business Problem"
   ]
  },
  {
   "cell_type": "markdown",
   "metadata": {},
   "source": [
    "Berlin is one of Europe's most cosmopolitan cities. It's best restaurants spanning the globe in their offering – from Turkish Döner Kebap to Japanese Sushi. The city's food culture is an insight into its multi-cultural nature, and nothing shows this better than its street food markets. The town offers foods from all corners of the globe; these markets are a food lover's dream and a must-experience in Berlin."
   ]
  },
  {
   "cell_type": "markdown",
   "metadata": {},
   "source": [
    "For this project, I decided to solve a business problem in Berlin. A businessman who has fast-food restaurants in the US wants to open his new fast-food branch in Berlin, but he is unsure where he should open his new restaurant branch in the town. So, I will help him make a great decision to make his fast-food restaurant one of the tops visited venues in its borough. Firstly, we need to know that customers go for eating at which type of restaurants mostly in each Berlin district. Districts with fast-food restaurants in their top-visited venue lists should be considered to open a new restaurant because it clarifies customer behaviors in selecting restaurants and the city's food culture based on location. Also, we need to check the number of fast-food restaurants in that district to avoid a competitive food market and powerful rivals, making some trouble for a new restaurant."
   ]
  },
  {
   "cell_type": "markdown",
   "metadata": {},
   "source": [
    "### 2. Data"
   ]
  },
  {
   "cell_type": "markdown",
   "metadata": {},
   "source": [
    "We need a couple of Datasets to solve this problem."
   ]
  },
  {
   "cell_type": "markdown",
   "metadata": {},
   "source": [
    "1. Boroughs and neighborhoods of Berlin\n",
    "2. Geo-coordinates of boroughs in Berlin\n",
    "3. Top venues in each borough from the Foursquare API"
   ]
  },
  {
   "cell_type": "markdown",
   "metadata": {},
   "source": [
    "Berlin is both a city and one of Germany’s federated states. As of 2012, the twelve boroughs are made up of a total of 96 officially recognized localities.\n",
    "\n",
    "The dataset will be scraped from the **Wikipedia Page**: https://en.wikipedia.org/wiki/Category:Localities_of_Berlin"
   ]
  },
  {
   "cell_type": "markdown",
   "metadata": {},
   "source": [
    "Then, Geo-coordinates of Boroughs will be obtained with the **Google Maps Geocoding API**. After gathering the Boroughs/Neighborhoods and the Boroughs coordinates datasets, we can display boroughs on a map combining these two datasets.\n",
    "\n",
    "\n",
    "Finally, we will use the **Foursquare API** to obtain the most visited restaurant categories and the number of restaurants belonging to different types in each borough of Berlin."
   ]
  }
 ],
 "metadata": {
  "kernelspec": {
   "display_name": "Python 3",
   "language": "python",
   "name": "python3"
  },
  "language_info": {
   "codemirror_mode": {
    "name": "ipython",
    "version": 3
   },
   "file_extension": ".py",
   "mimetype": "text/x-python",
   "name": "python",
   "nbconvert_exporter": "python",
   "pygments_lexer": "ipython3",
   "version": "3.7.7"
  }
 },
 "nbformat": 4,
 "nbformat_minor": 4
}
